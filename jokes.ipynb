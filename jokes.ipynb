{
 "cells": [
  {
   "cell_type": "markdown",
   "metadata": {},
   "source": [
    "<h2>JokeAPI</h2>\n",
    "<p>This API automaticaly gives you a joke. We can choose a category</p>"
   ]
  },
  {
   "cell_type": "code",
   "execution_count": 4,
   "metadata": {},
   "outputs": [],
   "source": [
    "import requests\n",
    "import json\n",
    "import pandas as pd"
   ]
  },
  {
   "cell_type": "code",
   "execution_count": 19,
   "metadata": {},
   "outputs": [],
   "source": [
    "# This allows us to choose between english or spanish\n",
    "lang = input(\"Choose the joke language (en/es)\")"
   ]
  },
  {
   "cell_type": "code",
   "execution_count": 6,
   "metadata": {},
   "outputs": [],
   "source": [
    "lang_stat = True\n",
    "while lang_stat == True:\n",
    "    if lang == \"en\":\n",
    "        linkp = \"Any\"\n",
    "        lang_stat = False\n",
    "    elif lang == \"es\":\n",
    "        linkp = \"Any?lang=es\"\n",
    "        lang_stat = False\n",
    "    else:\n",
    "        lang = input(\"Language not supported. Choose en/es:\" )"
   ]
  },
  {
   "cell_type": "code",
   "execution_count": 16,
   "metadata": {},
   "outputs": [
    {
     "name": "stdout",
     "output_type": "stream",
     "text": [
      "Why do ghosts go on diets?\n",
      "So they can keep their ghoulish figures.\n"
     ]
    }
   ],
   "source": [
    "url ='https://v2.jokeapi.dev/joke/'+linkp\n",
    "r = requests.get(url)\n",
    "results = json.loads(r.text)\n",
    "# pd.DataFrame(results)\n",
    "# print(results)\n",
    "print(results['setup'])\n",
    "print(results['delivery'])"
   ]
  },
  {
   "cell_type": "markdown",
   "metadata": {},
   "source": [
    "<h4>We can also get a set of 10 random jokes and build a pandas dataframe</h4>"
   ]
  },
  {
   "cell_type": "code",
   "execution_count": 18,
   "metadata": {},
   "outputs": [
    {
     "name": "stdout",
     "output_type": "stream",
     "text": [
      "          type                                              setup  \\\n",
      "0  programming                                       Knock-knock.   \n",
      "1      general            What do you call a laughing motorcycle?   \n",
      "2      general  A weasel walks into a bar. The bartender says,...   \n",
      "3      general                     Why is seven bigger than nine?   \n",
      "4      general  Why don't you find hippopotamuses hiding in tr...   \n",
      "5      general         What do you call a monkey in a mine field?   \n",
      "6      general      What do you call a suspicious looking laptop?   \n",
      "7      general               What did the ocean say to the beach?   \n",
      "8      general  Do you know where you can get chicken broth in...   \n",
      "9      general                     How do you fix a broken pizza?   \n",
      "\n",
      "                         punchline   id  \n",
      "0  A race condition. Who is there?  368  \n",
      "1                  A Yamahahahaha.   20  \n",
      "2             Pop,goes the weasel.   79  \n",
      "3          Because seven ate nine.  384  \n",
      "4       They're really good at it.  182  \n",
      "5                     A babooooom!  213  \n",
      "6                             Asus  386  \n",
      "7     Thanks for all the sediment.  180  \n",
      "8                The stock market.  107  \n",
      "9               With tomato paste.  123  \n"
     ]
    }
   ],
   "source": [
    "url_10 ='https://official-joke-api.appspot.com/jokes/ten'\n",
    "r_10 = requests.get(url_10)\n",
    "results_10 = json.loads(r_10.text)\n",
    "df = pd.DataFrame(results_10)\n",
    "print(df)"
   ]
  }
 ],
 "metadata": {
  "kernelspec": {
   "display_name": "Python 3",
   "language": "python",
   "name": "python3"
  },
  "language_info": {
   "codemirror_mode": {
    "name": "ipython",
    "version": 3
   },
   "file_extension": ".py",
   "mimetype": "text/x-python",
   "name": "python",
   "nbconvert_exporter": "python",
   "pygments_lexer": "ipython3",
   "version": "3.11.7"
  }
 },
 "nbformat": 4,
 "nbformat_minor": 2
}
